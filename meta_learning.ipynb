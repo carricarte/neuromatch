{
  "nbformat": 4,
  "nbformat_minor": 0,
  "metadata": {
    "colab": {
      "provenance": [],
      "authorship_tag": "ABX9TyOXbVoPgkdK0a+rKD5i/Dn/",
      "include_colab_link": true
    },
    "kernelspec": {
      "name": "python3",
      "display_name": "Python 3"
    },
    "language_info": {
      "name": "python"
    }
  },
  "cells": [
    {
      "cell_type": "markdown",
      "metadata": {
        "id": "view-in-github",
        "colab_type": "text"
      },
      "source": [
        "<a href=\"https://colab.research.google.com/github/carricarte/neuromatch/blob/main/meta_learning.ipynb\" target=\"_parent\"><img src=\"https://colab.research.google.com/assets/colab-badge.svg\" alt=\"Open In Colab\"/></a>"
      ]
    },
    {
      "cell_type": "markdown",
      "source": [
        "**IMPORT RELEVANT LIBRARIES**"
      ],
      "metadata": {
        "id": "eZyvaV_pxtCd"
      }
    },
    {
      "cell_type": "code",
      "execution_count": 10,
      "metadata": {
        "id": "51_X-FSDxdjC"
      },
      "outputs": [],
      "source": [
        "import torch\n",
        "import numpy as np\n",
        "import pandas as pd\n",
        "import matplotlib.pyplot as plt\n",
        "import seaborn as sns\n",
        "import torch.nn as nn\n",
        "import torch.nn.functional as F\n",
        "from nltk import word_tokenize\n",
        "from nltk.corpus import stopwords\n",
        "from nltk.tokenize import sent_tokenize\n",
        "import re\n",
        "from datasets import load_dataset\n",
        "from transformers import BertTokenizer"
      ]
    },
    {
      "cell_type": "markdown",
      "source": [
        "**HELPER FUNCTION (FROM TEMPLATE)**"
      ],
      "metadata": {
        "id": "tz7IbFR2y7sT"
      }
    },
    {
      "cell_type": "code",
      "source": [
        "\n",
        "_patterns = [r\"\\'\", r\"\\\"\", r\"\\.\", r\"<br \\/>\", r\",\", r\"\\(\", r\"\\)\", r\"\\!\", r\"\\?\", r\"\\;\", r\"\\:\", r\"\\s+\"]\n",
        "\n",
        "_replacements = [\" '  \", \"\", \" . \", \" \", \" , \", \" ( \", \" ) \", \" ! \", \" ? \", \" \", \" \", \" \"]\n",
        "\n",
        "_patterns_dict = list((re.compile(p), r) for p, r in zip(_patterns, _replacements))\n",
        "\n",
        "def _basic_english_normalize(line):\n",
        "    r\"\"\"\n",
        "    Basic normalization for a line of text.\n",
        "    Normalization includes\n",
        "    - lowercasing\n",
        "    - complete some basic text normalization for English words as follows:\n",
        "        add spaces before and after '\\''\n",
        "        remove '\\\"',\n",
        "        add spaces before and after '.'\n",
        "        replace '<br \\/>'with single space\n",
        "        add spaces before and after ','\n",
        "        add spaces before and after '('\n",
        "        add spaces before and after ')'\n",
        "        add spaces before and after '!'\n",
        "        add spaces before and after '?'\n",
        "        replace ';' with single space\n",
        "        replace ':' with single space\n",
        "        replace multiple spaces with single space\n",
        "\n",
        "    Returns a list of tokens after splitting on whitespace.\n",
        "    \"\"\"\n",
        "\n",
        "    line = line.lower()\n",
        "    for pattern_re, replaced_str in _patterns_dict:\n",
        "        line = pattern_re.sub(replaced_str, line)\n",
        "    return line.split()"
      ],
      "metadata": {
        "id": "xJnfDUuuy6US"
      },
      "execution_count": 11,
      "outputs": []
    },
    {
      "cell_type": "code",
      "source": [
        "## Here we should read the data from a CSV file or any other source.\n",
        "# then visualize it using pandas ot matplot to gain insights from it."
      ],
      "metadata": {
        "id": "V3LJd2esxrCl"
      },
      "execution_count": 12,
      "outputs": []
    },
    {
      "cell_type": "code",
      "source": [
        "# Data preprocessing\n",
        "def preprocess_text(text):\n",
        "    # Tokenize the text into words\n",
        "    tokens = word_tokenize(text.lower())\n",
        "    # Remove punctuation and non-alphabetic characters\n",
        "    tokens = [word for word in tokens if word.isalpha()]\n",
        "    tokens = [word for word in tokens if len(word) > 1]  # Remove single-character tokens\n",
        "    tokens= [word for word in tokens if re.search(r'[a-zA-Z]', word)]  # Keep only words with alphabetic characters\n",
        "    # Remove stopwords\n",
        "    stop_words = set(stopwords.words('english'))\n",
        "    tokens = [word for word in tokens if word not in stop_words]\n",
        "    return ' '.join(tokens)"
      ],
      "metadata": {
        "id": "9YPnfVodx4GB"
      },
      "execution_count": 13,
      "outputs": []
    },
    {
      "cell_type": "markdown",
      "source": [
        "**VISUALIZE DATA**"
      ],
      "metadata": {
        "id": "oKcZNcRfyErR"
      }
    },
    {
      "cell_type": "code",
      "source": [
        "## Visulaizing\n",
        "# import matplotlib.pyplot as plt\n",
        "# from wordcloud import WordCloud\n",
        "# # Set the style for seaborn\n",
        "# sns.set(style='whitegrid')\n",
        "# # Set the color palette for seaborn\n",
        "# sns.set_palette('pastel')\n",
        "\n",
        "# # --- Visualization 1: Label Distribution ---\n",
        "# plt.figure(figsize=(6, 4))\n",
        "# df['label'].value_counts().sort_index().plot(kind='bar', color=['red', 'gray', 'green'])\n",
        "# plt.title('Sentiment Label Distribution')\n",
        "# plt.xlabel('Sentiment')\n",
        "# plt.ylabel('Number of Samples')\n",
        "# plt.xticks(ticks=[0, 1, 2], labels=['Negative (-1)', 'Neutral (0)', 'Positive (1)'], rotation=0)\n",
        "# plt.grid(axis='y')\n",
        "# plt.tight_layout()\n",
        "# plt.show()\n",
        "\n",
        "# # --- Visualization 2: Word Clouds per Sentiment ---\n",
        "# fig, axes = plt.subplots(1, 3, figsize=(18, 6))\n",
        "# sentiments = {-1: 'Negative', 0: 'Neutral', 1: 'Positive'}\n",
        "# colors = {-1: 'Reds', 0: 'Greys', 1: 'Greens'}\n",
        "\n",
        "# for idx, sentiment in enumerate(sentiments.keys()):\n",
        "#     texts = ' '.join(df[df['label'] == sentiment]['text'].astype(str))\n",
        "#     if texts.strip():  # avoid errors for empty sentiment class\n",
        "#         wordcloud = WordCloud(width=600, height=400, background_color='white',\n",
        "#                               colormap=colors[sentiment], max_words=100).generate(texts)\n",
        "#         axes[idx].imshow(wordcloud, interpolation='bilinear')\n",
        "#         axes[idx].set_title(f'{sentiments[sentiment]} Sentiment')\n",
        "#         axes[idx].axis('off')\n",
        "#     else:\n",
        "#         axes[idx].set_title(f'No Data for {sentiments[sentiment]}')\n",
        "#         axes[idx].axis('off')\n",
        "\n",
        "# plt.tight_layout()\n",
        "# plt.show()"
      ],
      "metadata": {
        "id": "9j2U39flyG_M"
      },
      "execution_count": 14,
      "outputs": []
    },
    {
      "cell_type": "markdown",
      "source": [
        "**IMPORT DATA**"
      ],
      "metadata": {
        "id": "uwqoOcbDzPFv"
      }
    },
    {
      "cell_type": "code",
      "source": [
        "dataset = load_dataset('sentiment140')\n",
        "df = dataset[\"train\"].to_pandas()\n",
        "\n",
        "# df = pd.read_csv('PATH/TO/CSV/FILE', encoding='ISO-8859-1')\n",
        "df = df.rename(columns={'0': 'polarity', '1467810369': 'user', 'Mon Apr 06 22:19:45 PDT 2009': 'date', 'NO_QUERY': 'query'\n",
        "                        , '_TheSpecialOne_': 'user', \"@switchfoot http://twitpic.com/2y1zl - Awww, that's a bummer.  You shoulda got David Carr of Third Day to do it. ;D\": 'text' })\n",
        "df = df[['polarity', 'user', 'date', 'query', 'user', 'text']]\n",
        "df.head()"
      ],
      "metadata": {
        "colab": {
          "base_uri": "https://localhost:8080/",
          "height": 365
        },
        "id": "hyGZ5HTpzOv4",
        "outputId": "b7201d98-8550-46a8-9640-060eef39d725"
      },
      "execution_count": 15,
      "outputs": [
        {
          "output_type": "error",
          "ename": "NotImplementedError",
          "evalue": "Loading a dataset cached in a LocalFileSystem is not supported.",
          "traceback": [
            "\u001b[0;31m---------------------------------------------------------------------------\u001b[0m",
            "\u001b[0;31mNotImplementedError\u001b[0m                       Traceback (most recent call last)",
            "\u001b[0;32m/tmp/ipython-input-15-37580065.py\u001b[0m in \u001b[0;36m<cell line: 0>\u001b[0;34m()\u001b[0m\n\u001b[0;32m----> 1\u001b[0;31m \u001b[0mdataset\u001b[0m \u001b[0;34m=\u001b[0m \u001b[0mload_dataset\u001b[0m\u001b[0;34m(\u001b[0m\u001b[0;34m'sentiment140'\u001b[0m\u001b[0;34m)\u001b[0m\u001b[0;34m\u001b[0m\u001b[0;34m\u001b[0m\u001b[0m\n\u001b[0m\u001b[1;32m      2\u001b[0m \u001b[0mdf\u001b[0m \u001b[0;34m=\u001b[0m \u001b[0mdataset\u001b[0m\u001b[0;34m[\u001b[0m\u001b[0;34m\"train\"\u001b[0m\u001b[0;34m]\u001b[0m\u001b[0;34m.\u001b[0m\u001b[0mto_pandas\u001b[0m\u001b[0;34m(\u001b[0m\u001b[0;34m)\u001b[0m\u001b[0;34m\u001b[0m\u001b[0;34m\u001b[0m\u001b[0m\n\u001b[1;32m      3\u001b[0m \u001b[0;34m\u001b[0m\u001b[0m\n\u001b[1;32m      4\u001b[0m \u001b[0;31m# df = pd.read_csv('PATH/TO/CSV/FILE', encoding='ISO-8859-1')\u001b[0m\u001b[0;34m\u001b[0m\u001b[0;34m\u001b[0m\u001b[0m\n\u001b[1;32m      5\u001b[0m df = df.rename(columns={'0': 'polarity', '1467810369': 'user', 'Mon Apr 06 22:19:45 PDT 2009': 'date', 'NO_QUERY': 'query'\n",
            "\u001b[0;32m/usr/local/lib/python3.11/dist-packages/datasets/load.py\u001b[0m in \u001b[0;36mload_dataset\u001b[0;34m(path, name, data_dir, data_files, split, cache_dir, features, download_config, download_mode, verification_mode, ignore_verifications, keep_in_memory, save_infos, revision, token, use_auth_token, task, streaming, num_proc, storage_options, **config_kwargs)\u001b[0m\n\u001b[1;32m   2147\u001b[0m         \u001b[0mkeep_in_memory\u001b[0m \u001b[0;32mif\u001b[0m \u001b[0mkeep_in_memory\u001b[0m \u001b[0;32mis\u001b[0m \u001b[0;32mnot\u001b[0m \u001b[0;32mNone\u001b[0m \u001b[0;32melse\u001b[0m \u001b[0mis_small_dataset\u001b[0m\u001b[0;34m(\u001b[0m\u001b[0mbuilder_instance\u001b[0m\u001b[0;34m.\u001b[0m\u001b[0minfo\u001b[0m\u001b[0;34m.\u001b[0m\u001b[0mdataset_size\u001b[0m\u001b[0;34m)\u001b[0m\u001b[0;34m\u001b[0m\u001b[0;34m\u001b[0m\u001b[0m\n\u001b[1;32m   2148\u001b[0m     )\n\u001b[0;32m-> 2149\u001b[0;31m     \u001b[0mds\u001b[0m \u001b[0;34m=\u001b[0m \u001b[0mbuilder_instance\u001b[0m\u001b[0;34m.\u001b[0m\u001b[0mas_dataset\u001b[0m\u001b[0;34m(\u001b[0m\u001b[0msplit\u001b[0m\u001b[0;34m=\u001b[0m\u001b[0msplit\u001b[0m\u001b[0;34m,\u001b[0m \u001b[0mverification_mode\u001b[0m\u001b[0;34m=\u001b[0m\u001b[0mverification_mode\u001b[0m\u001b[0;34m,\u001b[0m \u001b[0min_memory\u001b[0m\u001b[0;34m=\u001b[0m\u001b[0mkeep_in_memory\u001b[0m\u001b[0;34m)\u001b[0m\u001b[0;34m\u001b[0m\u001b[0;34m\u001b[0m\u001b[0m\n\u001b[0m\u001b[1;32m   2150\u001b[0m     \u001b[0;31m# Rename and cast features to match task schema\u001b[0m\u001b[0;34m\u001b[0m\u001b[0;34m\u001b[0m\u001b[0m\n\u001b[1;32m   2151\u001b[0m     \u001b[0;32mif\u001b[0m \u001b[0mtask\u001b[0m \u001b[0;32mis\u001b[0m \u001b[0;32mnot\u001b[0m \u001b[0;32mNone\u001b[0m\u001b[0;34m:\u001b[0m\u001b[0;34m\u001b[0m\u001b[0;34m\u001b[0m\u001b[0m\n",
            "\u001b[0;32m/usr/local/lib/python3.11/dist-packages/datasets/builder.py\u001b[0m in \u001b[0;36mas_dataset\u001b[0;34m(self, split, run_post_process, verification_mode, ignore_verifications, in_memory)\u001b[0m\n\u001b[1;32m   1171\u001b[0m         \u001b[0mis_local\u001b[0m \u001b[0;34m=\u001b[0m \u001b[0;32mnot\u001b[0m \u001b[0mis_remote_filesystem\u001b[0m\u001b[0;34m(\u001b[0m\u001b[0mself\u001b[0m\u001b[0;34m.\u001b[0m\u001b[0m_fs\u001b[0m\u001b[0;34m)\u001b[0m\u001b[0;34m\u001b[0m\u001b[0;34m\u001b[0m\u001b[0m\n\u001b[1;32m   1172\u001b[0m         \u001b[0;32mif\u001b[0m \u001b[0;32mnot\u001b[0m \u001b[0mis_local\u001b[0m\u001b[0;34m:\u001b[0m\u001b[0;34m\u001b[0m\u001b[0;34m\u001b[0m\u001b[0m\n\u001b[0;32m-> 1173\u001b[0;31m             \u001b[0;32mraise\u001b[0m \u001b[0mNotImplementedError\u001b[0m\u001b[0;34m(\u001b[0m\u001b[0;34mf\"Loading a dataset cached in a {type(self._fs).__name__} is not supported.\"\u001b[0m\u001b[0;34m)\u001b[0m\u001b[0;34m\u001b[0m\u001b[0;34m\u001b[0m\u001b[0m\n\u001b[0m\u001b[1;32m   1174\u001b[0m         \u001b[0;32mif\u001b[0m \u001b[0;32mnot\u001b[0m \u001b[0mos\u001b[0m\u001b[0;34m.\u001b[0m\u001b[0mpath\u001b[0m\u001b[0;34m.\u001b[0m\u001b[0mexists\u001b[0m\u001b[0;34m(\u001b[0m\u001b[0mself\u001b[0m\u001b[0;34m.\u001b[0m\u001b[0m_output_dir\u001b[0m\u001b[0;34m)\u001b[0m\u001b[0;34m:\u001b[0m\u001b[0;34m\u001b[0m\u001b[0;34m\u001b[0m\u001b[0m\n\u001b[1;32m   1175\u001b[0m             raise FileNotFoundError(\n",
            "\u001b[0;31mNotImplementedError\u001b[0m: Loading a dataset cached in a LocalFileSystem is not supported."
          ]
        }
      ]
    },
    {
      "cell_type": "markdown",
      "source": [
        "**ENCODING**"
      ],
      "metadata": {
        "id": "VsVy8NSOyTjR"
      }
    },
    {
      "cell_type": "code",
      "source": [
        "tokenizer = BertTokenizer.from_pretrained(\"bert-base-uncased\")\n",
        "# Tokenize the text data\n",
        "def tokenize_texts(texts):\n",
        "    return tokenizer(texts, padding=True, truncation=True, return_tensors='pt')\n",
        "\n",
        "# tokenize the preprocessed text data\n",
        "encoded = tokenize_texts(X_orig[:, 0].tolist())  # Use the first column for text data\n",
        "# Convert labels to tensor\n",
        "labels = torch.tensor(X_orig[:, 1].astype(int))  # Use the second column\n",
        "# Create a dataset class"
      ],
      "metadata": {
        "id": "dtuFrN3MyV2Z"
      },
      "execution_count": null,
      "outputs": []
    }
  ]
}